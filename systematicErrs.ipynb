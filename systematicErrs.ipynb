{
 "cells": [
  {
   "cell_type": "code",
   "execution_count": 1,
   "id": "5499cdba",
   "metadata": {},
   "outputs": [],
   "source": [
    "import numpy as np\n",
    "import matplotlib.pyplot as plt\n",
    "import scipy as sc\n",
    "import pyccl as ccl\n",
    "import pyccl.nl_pt as pt\n",
    "import pyccl.ccllib as lib\n",
    "\n",
    "plt.rcParams['axes.labelsize']        = 12\n",
    "plt.rcParams['axes.titlesize']        = 12\n",
    "plt.rcParams['xtick.labelsize']       = 12\n",
    "plt.rcParams['ytick.labelsize']       = 12\n",
    "plt.rcParams['font.family']           = 'serif'\n",
    "plt.rcParams['font.size']             = 12"
   ]
  },
  {
   "cell_type": "code",
   "execution_count": 2,
   "id": "55b665f5",
   "metadata": {},
   "outputs": [],
   "source": [
    "h = 0.68\n",
    "cosmo = ccl.Cosmology(Omega_c=0.25337, Omega_b=0.04933, h=h, A_s=2e-9, n_s=0.96, transfer_function='boltzmann_class')\n",
    "a_1 = 1."
   ]
  },
  {
   "cell_type": "markdown",
   "id": "910fe298",
   "metadata": {},
   "source": [
    "### Intrinsic Alignments"
   ]
  },
  {
   "cell_type": "code",
   "execution_count": 3,
   "id": "0feba989",
   "metadata": {},
   "outputs": [],
   "source": [
    "# IA Normalization\n",
    "z = np.linspace(0,4,128)\n",
    "gz = ccl.growth_factor(cosmo, 1./(1+z))\n",
    "\n",
    "Om_m = cosmo['Omega_m']\n",
    "rho_crit = lib.cvar.constants.RHO_CRITICAL\n",
    "rho_m = lib.cvar.constants.RHO_CRITICAL * cosmo['Omega_m']\n",
    "\n",
    "c_1_t = c_1 = -1*a_1*5e-14*rho_crit*cosmo['Omega_m']/gz\n"
   ]
  },
  {
   "cell_type": "code",
   "execution_count": 4,
   "id": "d22dc759",
   "metadata": {},
   "outputs": [],
   "source": [
    "# Intrinsic alignments\n",
    "ptt_i_nla = pt.PTIntrinsicAlignmentTracer(c1=(z,c_1))\n",
    "ptt_m = pt.PTMatterTracer()"
   ]
  },
  {
   "cell_type": "code",
   "execution_count": 5,
   "id": "36cfa51d",
   "metadata": {},
   "outputs": [
    {
     "name": "stdout",
     "output_type": "stream",
     "text": [
      "Warning, you selected a extrap_high that is less than k_max. Therefore no extrapolation will be done.\n"
     ]
    }
   ],
   "source": [
    "# The `with_NC` and `with_IA` flags will tell FastPT to initialize the right things.\n",
    "# `log10k_min/max and nk_per_decade will define the sampling in k you should use.\n",
    "\n",
    "ptc = pt.EulerianPTCalculator(with_NC=False, with_IA=True,\n",
    "                      log10k_min=-3, log10k_max=4, nk_per_decade=20)\n",
    "\n",
    "ptc.update_ingredients(cosmo)"
   ]
  },
  {
   "cell_type": "code",
   "execution_count": 6,
   "id": "d93d4ed5",
   "metadata": {},
   "outputs": [],
   "source": [
    "kk = np.logspace(-3,1)\n",
    "z = np.linspace(0, 4)\n",
    "pk_mm_NL = ccl.power.nonlin_matter_power(cosmo, k=kk, a=(1/(1+z))[::-1])\n",
    "pk_mm = ccl.pk2d.Pk2D(a_arr=1/(1+z)[::-1], lk_arr=np.log(kk), pk_arr=pk_mm_NL, is_logp=False)"
   ]
  },
  {
   "cell_type": "code",
   "execution_count": 7,
   "id": "f277224b",
   "metadata": {},
   "outputs": [],
   "source": [
    "# IAs X IAs\n",
    "pk_ii_nla = ptc.get_biased_pk2d(ptt_i_nla, tracer2=ptt_i_nla)\n",
    "# IAs X matter\n",
    "pk_im = ptc.get_biased_pk2d(ptt_i_nla, tracer2=ptt_m)"
   ]
  },
  {
   "cell_type": "code",
   "execution_count": 8,
   "id": "12c81415",
   "metadata": {},
   "outputs": [],
   "source": [
    "src_LSSTs = np.loadtxt('surveys/nz_lsst_5sbins.txt', unpack=True)\n",
    "z_src_LSST = src_LSSTs[0]\n",
    "dndz_src_LSST = src_LSSTs[-2]\n",
    "dndz_src_LSST_2 = src_LSSTs[-1]\n",
    "\n",
    "t_l = ccl.WeakLensingTracer(cosmo, dndz=(z_src_LSST, dndz_src_LSST), has_shear=True)\n",
    "t_l2 = ccl.WeakLensingTracer(cosmo, dndz=(z_src_LSST, dndz_src_LSST_2), has_shear=True)\n",
    "\n",
    "t_i_nla = ccl.WeakLensingTracer(cosmo, dndz=(z_src_LSST, dndz_src_LSST), has_shear=True, ia_bias=(z, np.ones_like(z)), use_A_ia=False)\n",
    "t_i_nla2 = ccl.WeakLensingTracer(cosmo, dndz=(z_src_LSST, dndz_src_LSST_2), has_shear=True, ia_bias=(z, np.ones_like(z)), use_A_ia=False)"
   ]
  },
  {
   "cell_type": "code",
   "execution_count": 9,
   "id": "8f027f45",
   "metadata": {},
   "outputs": [],
   "source": [
    "ell = np.arange(2,2e3+1)\n",
    "cls={}\n",
    "cls['GG'] = ccl.angular_cl(cosmo, t_l, t_l, ell, p_of_k_a=pk_mm)\n",
    "cls['GI,NLA'] = ccl.angular_cl(cosmo, t_l, t_i_nla, ell, p_of_k_a=pk_im)\n",
    "cls['II,NLA'] = ccl.angular_cl(cosmo, t_i_nla, t_i_nla, ell, p_of_k_a=pk_ii_nla)\n",
    "\n",
    "cls['GG_cross'] = ccl.angular_cl(cosmo, t_l, t_l2, ell, p_of_k_a=pk_mm)\n",
    "cls['GI,NLA_cross'] = ccl.angular_cl(cosmo, t_l2, t_i_nla, ell, p_of_k_a=pk_im)\n",
    "cls['II,NLA_cross'] = ccl.angular_cl(cosmo, t_i_nla2, t_i_nla, ell, p_of_k_a=pk_ii_nla)"
   ]
  },
  {
   "cell_type": "markdown",
   "id": "cf65f682",
   "metadata": {},
   "source": [
    "### Photo-zs ###"
   ]
  },
  {
   "cell_type": "code",
   "execution_count": 10,
   "id": "9b3f5830",
   "metadata": {},
   "outputs": [],
   "source": [
    "zarr = np.linspace(0,4)\n",
    "desi_mu = 0.633\n",
    "desi_std = 0.077\n",
    "desi_dndz = np.exp(-((zarr-desi_mu)/(desi_std))**2)\n",
    "desi_shotnoise = 1/(311 * 3282.8) # 2D shot noise\n",
    "desi_b = 2\n",
    "DESI_fsky = 0.4"
   ]
  },
  {
   "cell_type": "code",
   "execution_count": 11,
   "id": "fd674858",
   "metadata": {},
   "outputs": [],
   "source": [
    "# Number counts\n",
    "b_1 = desi_b\n",
    "ptt_g = pt.PTNumberCountsTracer(b1=b_1, b2=0.9, bs=-1.8, bk2=-0.49)\n",
    "ptc = pt.EulerianPTCalculator(with_NC=True, with_IA=False, log10k_min=-4, log10k_max=2, nk_per_decade=20)\n",
    "ptc.update_ingredients(cosmo)\n",
    "\n",
    "pk_gg = ptc.get_biased_pk2d(ptt_g, tracer2=ptt_g)\n",
    "pk_gm = ptc.get_biased_pk2d(ptt_g, tracer2=ptt_m)\n",
    "\n",
    "t_g = ccl.NumberCountsTracer(cosmo, has_rsd=False, dndz=(zarr, desi_dndz), bias=(zarr, np.ones_like(zarr)), mag_bias=None)\n",
    "t_cmb = ccl.CMBLensingTracer(cosmo, z_source=1088)\n",
    "t_source = ccl.WeakLensingTracer(cosmo, dndz=(z_src_LSST, dndz_src_LSST))\n",
    "\n",
    "clgg_DESI = ccl.angular_cl(cosmo, t_g, t_g, ell, p_of_k_a=pk_gg)\n",
    "clkg_cmb = ccl.angular_cl(cosmo, t_g, t_cmb, ell, p_of_k_a=pk_gm)\n",
    "clkk_cmb = ccl.angular_cl(cosmo, t_cmb, t_cmb, ell, p_of_k_a=pk_mm)\n",
    "\n",
    "clkg_gal = ccl.angular_cl(cosmo, t_g, t_source, ell, p_of_k_a=pk_gm)\n",
    "clkk_gal = ccl.angular_cl(cosmo, t_source, t_source, ell, p_of_k_a=pk_mm)\n"
   ]
  },
  {
   "cell_type": "code",
   "execution_count": 12,
   "id": "860e63fb",
   "metadata": {},
   "outputs": [],
   "source": [
    "sigma_z = 0.015\n",
    "t_source_2 = ccl.WeakLensingTracer(cosmo, dndz=(z_src_LSST+sigma_z, dndz_src_LSST))\n",
    "\n",
    "clkg_gal_2 = ccl.angular_cl(cosmo, t_g, t_source_2, ell, p_of_k_a=pk_gm)\n",
    "clkk_gal_2 = ccl.angular_cl(cosmo, t_source_2, t_source_2, ell, p_of_k_a=pk_mm)\n"
   ]
  },
  {
   "cell_type": "markdown",
   "id": "f365014d",
   "metadata": {},
   "source": [
    "### Baryons ###"
   ]
  },
  {
   "cell_type": "code",
   "execution_count": 13,
   "id": "cd91fb7e",
   "metadata": {},
   "outputs": [],
   "source": [
    "z = np.linspace(0, 10)\n",
    "kk, meas_cowls, A_mod_cowls, taylor_cowls = np.loadtxt('baryon_spectra/baryons_cowls.txt', unpack=True)"
   ]
  },
  {
   "cell_type": "code",
   "execution_count": 14,
   "id": "fada6036",
   "metadata": {},
   "outputs": [],
   "source": [
    "kk_ext = np.concatenate((np.logspace(-3,-2), kk*h))\n",
    "A_mod_cowls_ext = np.concatenate((np.ones(50), A_mod_cowls))"
   ]
  },
  {
   "cell_type": "code",
   "execution_count": null,
   "id": "81d1366e",
   "metadata": {},
   "outputs": [],
   "source": [
    "pk_mm_NL = ccl.power.nonlin_matter_power(cosmo, k=kk_ext, a=(1/(1+z))[::-1])\n",
    "pk2d_cowls = ccl.pk2d.Pk2D(a_arr=1/(1+z)[::-1], lk_arr=np.log(kk_ext), pk_arr=A_mod_cowls_ext*pk_mm_NL, is_logp=False)\n",
    "\n",
    "# 10% shift in c_2 and c_4 given R_b = 1.25\n",
    "err_fac = 1+(0.1*(kk_ext*1.25*h)**2)/(1+0.1*(kk_ext*1.25*h)**2)\n",
    "pk2d_cowls_2 = ccl.pk2d.Pk2D(a_arr=1/(1+z)[::-1], lk_arr=np.log(kk_ext), pk_arr=err_fac*A_mod_cowls_ext*pk_mm_NL, is_logp=False)"
   ]
  },
  {
   "cell_type": "code",
   "execution_count": null,
   "id": "f4e6bb49",
   "metadata": {},
   "outputs": [],
   "source": [
    "clgg_DESI_cowls = ccl.angular_cl(cosmo, t_g, t_g, ell, p_of_k_a=desi_b**2*pk2d_cowls)\n",
    "clgg_DESI_cowls_2 = ccl.angular_cl(cosmo, t_g, t_g, ell, p_of_k_a=desi_b**2*pk2d_cowls_2)"
   ]
  },
  {
   "cell_type": "markdown",
   "id": "333720b2",
   "metadata": {},
   "source": [
    "### Scale-Dependent Bias ###"
   ]
  },
  {
   "cell_type": "code",
   "execution_count": null,
   "id": "6ccbf33f",
   "metadata": {},
   "outputs": [],
   "source": [
    "k = kk_ext[:-17]\n",
    "pgg_fid = h**3*pk_gg(k*h, 1/(1+0.633))+1e3\n",
    "pgm_fid = h**3*pk_gm(k*h, 1/(1+0.633))"
   ]
  },
  {
   "cell_type": "code",
   "execution_count": null,
   "id": "94ecff78",
   "metadata": {},
   "outputs": [],
   "source": [
    "import numpy as np\n",
    "from aemulus_heft.heft_emu import HEFTEmulator\n",
    "from aemulus_heft.utils import lpt_spectra\n",
    "\n",
    "emu = HEFTEmulator()\n",
    "cosmology = [0.022810192, 0.117162912, -1, 0.96, 2., h*100, 0.]\n",
    "z=0.633\n",
    "\n",
    "spec_lpt, sigma8z = lpt_spectra(k, z, cosmology)\n",
    "cosmology.append(sigma8z)\n",
    "spec_heft = emu.predict(k, np.array(cosmology), spec_lpt)"
   ]
  },
  {
   "cell_type": "code",
   "execution_count": null,
   "id": "78409a96",
   "metadata": {},
   "outputs": [],
   "source": [
    "def bias_fit(biases, emu, spec_heft):\n",
    "    phh_dat = pgg_fid\n",
    "    phm_dat = pgm_fid\n",
    "    \n",
    "    phh_fit = emu.basis_to_full(k, biases, spec_heft, cross=False)\n",
    "    phm_fit = emu.basis_to_full(k, biases, spec_heft, cross=True)\n",
    "\n",
    "    idx = -1\n",
    "    chisq = np.sum((phh_dat[:idx]-phh_fit[:idx])**2/(phh_fit[:idx])) + \\\n",
    "            np.sum((phm_dat[:idx]-phm_fit[:idx])**2/(phm_fit[:idx])) + \\\n",
    "            np.sum(k[idx:]**2*(phh_dat[idx:]-phh_fit[idx:])**2/(phh_fit[idx:])) + \\\n",
    "            np.sum(k[idx:]**2*(phm_dat[idx:]-phm_fit[idx:])**2/(phm_fit[idx:]))\n",
    "\n",
    "    return chisq\n",
    "\n",
    "\n",
    "def bias_fit_lin(biases, emu, spec_heft):\n",
    "    b1, sn = biases\n",
    "    phh_dat = pgg_fid\n",
    "    phm_dat = pgm_fid\n",
    "    \n",
    "    phh_fit = emu.basis_to_full(k, [b1, 0, 0, 0, sn], spec_heft, cross=False)\n",
    "    phm_fit = emu.basis_to_full(k, [b1, 0, 0, 0, sn], spec_heft, cross=True)\n",
    "\n",
    "    idx = -60  #k[-60] = 0.2\n",
    "    chisq = np.sum((phh_dat[:idx]-phh_fit[:idx])**2/(phh_fit[:idx])) + np.sum((phm_dat[:idx]-phm_fit[:idx])**2/(phm_fit[:idx]))\n",
    "    \n",
    "    return chisq"
   ]
  },
  {
   "cell_type": "code",
   "execution_count": 21,
   "id": "9fa6073f",
   "metadata": {},
   "outputs": [
    {
     "name": "stdout",
     "output_type": "stream",
     "text": [
      "[ 9.97478271e-01  6.33066447e-01 -1.01542154e-01  5.75905077e-01\n",
      "  9.44839711e+02]\n",
      "[9.92189163e-01 1.27622074e+03]\n"
     ]
    }
   ],
   "source": [
    "fit = sc.optimize.minimize(bias_fit, x0=[0.9, -0.7, -0.4, 0.14, -100], args=(emu, spec_heft))['x']\n",
    "fit_lin = sc.optimize.minimize(bias_fit_lin, x0=[0.9, -100], args=(emu, spec_heft))['x']\n",
    "# b1, b2, bs, bk2, sn\n",
    "print(fit)\n",
    "print(fit_lin)"
   ]
  },
  {
   "cell_type": "code",
   "execution_count": 22,
   "id": "0fd68b12",
   "metadata": {},
   "outputs": [],
   "source": [
    "phh_quad = emu.basis_to_full(k, fit, spec_heft, cross=False)\n",
    "phm_quad = emu.basis_to_full(k, fit, spec_heft, cross=True)\n",
    "\n",
    "phh_lin = emu.basis_to_full(k, [fit_lin[0], 0, 0, 0, fit_lin[-1]], spec_heft, cross=False)\n",
    "phm_lin = emu.basis_to_full(k, [fit_lin[0], 0, 0, 0, fit_lin[-1]], spec_heft, cross=True)"
   ]
  },
  {
   "cell_type": "code",
   "execution_count": 23,
   "id": "c97e9607",
   "metadata": {},
   "outputs": [],
   "source": [
    "clkg_gal = ccl.angular_cl(cosmo, t_g, t_source, ell, p_of_k_a=pk_gm)\n",
    "clkk_gal = ccl.angular_cl(cosmo, t_source, t_source, ell, p_of_k_a=pk_mm)"
   ]
  },
  {
   "cell_type": "code",
   "execution_count": null,
   "id": "177b8ef4",
   "metadata": {},
   "outputs": [],
   "source": [
    "pgg_quads = []\n",
    "pgm_quads = []\n",
    "\n",
    "pgg_lins = []\n",
    "pgm_lins = []\n",
    "\n",
    "# Takes about 1 minute\n",
    "zs = np.linspace(0, 4, 20)\n",
    "for z in zs:\n",
    "    cosmology = [0.022810192, 0.117162912, -1, 0.96, 2., h*100, 0.]\n",
    "    spec_lpt, sigma8z = lpt_spectra(k, z, cosmology)\n",
    "    cosmology.append(sigma8z)\n",
    "    spec_heft = emu.predict(k, np.array(cosmology), spec_lpt)\n",
    "    phh_quad_temp = emu.basis_to_full(k, fit, spec_heft, cross=False)\n",
    "    pgg_quads.append(phh_quad_temp)\n",
    "    phm_quad_temp = emu.basis_to_full(k, fit, spec_heft, cross=True)\n",
    "    pgm_quads.append(phm_quad_temp)\n",
    "    phh_lin_temp = emu.basis_to_full(k, [fit_lin[0], 0, 0, 0, fit_lin[-1]], spec_heft, cross=False)\n",
    "    pgg_lins.append(phh_lin_temp)\n",
    "    phm_lin_temp = emu.basis_to_full(k, [fit_lin[0], 0, 0, 0, fit_lin[-1]], spec_heft, cross=True)\n",
    "    pgm_lins.append(phm_lin_temp)\n"
   ]
  },
  {
   "cell_type": "code",
   "execution_count": 25,
   "id": "a62b93d5",
   "metadata": {},
   "outputs": [],
   "source": [
    "pgg_quads = pgg_quads[::-1]\n",
    "pgm_quads = pgm_quads[::-1]\n",
    "pgg_lins = pgg_lins[::-1]\n",
    "pgm_lins = pgm_lins[::-1]"
   ]
  },
  {
   "cell_type": "code",
   "execution_count": 26,
   "id": "d06df91f",
   "metadata": {},
   "outputs": [],
   "source": [
    "pgg_quad = ccl.pk2d.Pk2D(a_arr=1/(1+zs)[::-1], lk_arr=np.log(k/h), pk_arr=np.array(pgg_quads), is_logp=False)\n",
    "pgm_quad = ccl.pk2d.Pk2D(a_arr=1/(1+zs)[::-1], lk_arr=np.log(k/h), pk_arr=np.array(pgm_quads), is_logp=False)\n",
    "pgg_lin = ccl.pk2d.Pk2D(a_arr=1/(1+zs)[::-1], lk_arr=np.log(k/h), pk_arr=np.array(pgg_lins), is_logp=False)\n",
    "pgm_lin = ccl.pk2d.Pk2D(a_arr=1/(1+zs)[::-1], lk_arr=np.log(k/h), pk_arr=np.array(pgm_lins), is_logp=False)"
   ]
  },
  {
   "cell_type": "code",
   "execution_count": 27,
   "id": "8966136a",
   "metadata": {},
   "outputs": [],
   "source": [
    "# CMB lensing\n",
    "clgg_quad = ccl.angular_cl(cosmo, t_g, t_g, ell, p_of_k_a=pgg_quad)\n",
    "clgk_quad_ggl = ccl.angular_cl(cosmo, t_g, t_source, ell, p_of_k_a=pgm_quad)\n",
    "clgg_lin = ccl.angular_cl(cosmo, t_g, t_g, ell, p_of_k_a=pgg_lin)\n",
    "clgk_lin_ggl = ccl.angular_cl(cosmo, t_g, t_source, ell, p_of_k_a=pgm_lin)"
   ]
  },
  {
   "cell_type": "markdown",
   "id": "bcee7c4f",
   "metadata": {},
   "source": [
    "### All ###"
   ]
  },
  {
   "cell_type": "code",
   "execution_count": 28,
   "id": "b8fc7cd1",
   "metadata": {},
   "outputs": [],
   "source": [
    "chi = h*ccl.background.comoving_radial_distance(cosmo, 1/(1+0.633))\n",
    "\n",
    "def k2ell(k):\n",
    "    return k*chi - 0.5\n",
    "\n",
    "def ell2k(ell):\n",
    "    return (ell+0.5)/chi\n"
   ]
  },
  {
   "cell_type": "code",
   "execution_count": 30,
   "id": "b0b52549",
   "metadata": {},
   "outputs": [
    {
     "data": {
      "image/png": "[encoded data removed]",
      "text/plain": [
       "<Figure size 576x360 with 1 Axes>"
      ]
     },
     "metadata": {
      "needs_background": "light"
     },
     "output_type": "display_data"
    }
   ],
   "source": [
    "fig, ax = plt.subplots(figsize=(8,5))\n",
    "\n",
    "ax.plot(ell, 100*abs(clkg_gal_2-clkg_gal)/clkg_gal, label='GGL photo-z')\n",
    "ax.plot(ell, 100*abs(cls['GI,NLA']+cls['II,NLA'])/cls['GG'], label='GI+II Auto')\n",
    "ax.plot(ell, 100*abs(cls['GI,NLA_cross']+cls['II,NLA_cross'])/cls['GG_cross'], label='GI+II Cross', c='C1', ls='--')\n",
    "\n",
    "ax.plot(ell, 100*abs(clgg_DESI_cowls_2-clgg_DESI_cowls)/clgg_DESI_cowls, label='C-OWLS AGN')\n",
    "\n",
    "ax.plot(ell, 100*abs(clgg_quad-clgg_lin)/clgg_quad, label='Galaxy Auto linear bias')\n",
    "ax.plot(ell, 100*abs(clgk_quad_ggl-clgk_lin_ggl)/clgk_quad_ggl, label='GGL linear bias')\n",
    "         \n",
    "ax.legend(ncol=3)\n",
    "ax.set_ylim(0, 6)\n",
    "ax.set_xlim(30, 1*chi-0.5)\n",
    "secax = ax.secondary_xaxis('top', functions=(ell2k, k2ell))\n",
    "secax.set_xlabel(r'$k\\quad[h\\,{\\rm Mpc}^{-1}]$')\n",
    "ax.grid()\n",
    "ax.set_xlabel(r'$\\ell$')\n",
    "ax.set_ylabel('Percent Shift (Absolute Value)')\n",
    "fig.tight_layout()\n",
    "fig.savefig('figures/systematic_err_abs.pdf')\n"
   ]
  }
 ],
 "metadata": {
  "kernelspec": {
   "display_name": "base",
   "language": "python",
   "name": "python3"
  },
  "language_info": {
   "codemirror_mode": {
    "name": "ipython",
    "version": 3
   },
   "file_extension": ".py",
   "mimetype": "text/x-python",
   "name": "python",
   "nbconvert_exporter": "python",
   "pygments_lexer": "ipython3",
   "version": "3.9.12"
  }
 },
 "nbformat": 4,
 "nbformat_minor": 5
}
