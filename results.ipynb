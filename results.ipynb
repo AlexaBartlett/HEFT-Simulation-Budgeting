{
 "cells": [
  {
   "cell_type": "code",
   "execution_count": 1,
   "id": "e5b4c1c2",
   "metadata": {},
   "outputs": [],
   "source": [
    "import matplotlib.pyplot as plt\n",
    "import sys\n",
    "sys.path.insert(0, \"/Users/alexabartlett/class/python/build/lib.macosx-10.9-x86_64-3.9\")\n",
    "from classy import Class\n",
    "import pyccl as ccl\n",
    "import pyccl.nl_pt as pt\n",
    "import pyccl.ccllib as lib\n",
    "import numpy as np\n",
    "import scipy as sc\n",
    "\n",
    "plt.rcParams['axes.labelsize']        = 12\n",
    "plt.rcParams['axes.titlesize']        = 12\n",
    "plt.rcParams['xtick.labelsize']       = 12\n",
    "plt.rcParams['ytick.labelsize']       = 12\n",
    "plt.rcParams['font.family']           = 'serif'\n",
    "plt.rcParams['font.size']             = 12\n"
   ]
  },
  {
   "cell_type": "markdown",
   "id": "185b8394",
   "metadata": {},
   "source": [
    "The aim of this notebook is to use our tool to forecast the number of N-body simulations required to train HEFT emulator that meets our accuracy requirements for several different use cases."
   ]
  },
  {
   "cell_type": "code",
   "execution_count": null,
   "id": "acb0255e",
   "metadata": {},
   "outputs": [],
   "source": [
    "zarr = np.linspace(0, 4)\n",
    "\n",
    "# DESI LRG-EXT\n",
    "desi_mu = 0.633\n",
    "desi_std = 0.077\n",
    "desi_dndz = np.exp(-((zarr-desi_mu)/(desi_std))**2)\n",
    "desi_shotnoise = 1/(311 * 3282.8) # 2D shot noise\n",
    "desi_b = 2\n",
    "DESI_fsky = 0.4\n",
    "\n",
    "# SO Lensing\n",
    "SO_noise = np.loadtxt('surveys/nlkk_v3_1_0deproj0_SENS2_fsky0p4_it_lT30-3000_lP30-5000.dat') #noise curve\n",
    "ell_SO = SO_noise[:,0]\n",
    "all_SO = SO_noise[:,7]\n",
    "\n",
    "# Interpolating function for ease of computing variance later\n",
    "SO_noise_interp = sc.interpolate.interp1d(ell_SO, all_SO)\n"
   ]
  },
  {
   "cell_type": "code",
   "execution_count": 3,
   "id": "e22bed68",
   "metadata": {},
   "outputs": [],
   "source": [
    "cosmo = ccl.Cosmology(Omega_c=0.25337, Omega_b=0.04933, h=0.68, sigma8=0.82, n_s=0.96, transfer_function='boltzmann_class')\n",
    "\n",
    "# ell binning\n",
    "def get_bins_and_geom_fac(fsky):\n",
    "    dl = 30\n",
    "    ellvec = []\n",
    "    ellval = 30\n",
    "    ellvec.append(ellval)\n",
    "    dlvec = []\n",
    "\n",
    "    while ellval < 3500:\n",
    "        dl = np.sqrt(900+10*ellval) # As a compromise between log and linear binning\n",
    "        ellval = (dl + ellval)\n",
    "        ellvec.append(ellval)\n",
    "        dlvec.append(dl)\n",
    "        \n",
    "    ellvec = np.array(ellvec)\n",
    "    dlvec = np.array(dlvec)\n",
    "\n",
    "    ellbins = (ellvec[1:] + ellvec[:-1])*0.5\n",
    "    geom_fac = np.sqrt(2 / (fsky*dlvec*(2*ellbins + 1)))\n",
    "    return ellbins, geom_fac\n",
    "\n",
    "# Using same fsky for DESI and SO\n",
    "ellbins, geom_fac_DESI = get_bins_and_geom_fac(0.4)\n",
    "ellbins, geom_fac_LSST = get_bins_and_geom_fac(0.35)\n"
   ]
  },
  {
   "cell_type": "markdown",
   "id": "dd108f5f",
   "metadata": {},
   "source": [
    "### CMB Lensing with DESI LRG-Ext and SO ###"
   ]
  },
  {
   "cell_type": "code",
   "execution_count": 4,
   "id": "0e13cf9d",
   "metadata": {},
   "outputs": [],
   "source": [
    "# Running CCL to get spectra\n",
    "ell = ellbins\n",
    "\n",
    "ptt_m = pt.PTMatterTracer()\n",
    "ptt_g = pt.PTNumberCountsTracer(b1=2.00)\n",
    "\n",
    "ptc = pt.EulerianPTCalculator(with_NC=True, with_IA=False, log10k_min=-4, log10k_max=2, nk_per_decade=20)\n",
    "\n",
    "ptc.update_ingredients(cosmo)\n",
    "\n",
    "pk_gg = ptc.get_biased_pk2d(ptt_g, tracer2=ptt_g)\n",
    "pk_gm = ptc.get_biased_pk2d(ptt_g, tracer2=ptt_m)\n",
    "pk_mm = ptc.get_biased_pk2d(ptt_m, tracer2=ptt_m)\n",
    "\n",
    "t_cmb = ccl.CMBLensingTracer(cosmo, z_source=1088)\n",
    "t_g = ccl.NumberCountsTracer(cosmo, has_rsd=False, dndz=(zarr, desi_dndz), bias=(zarr, np.ones_like(zarr)), mag_bias=None)\n",
    "\n",
    "clgg_DESI = ccl.angular_cl(cosmo, t_g, t_g, ell, p_of_k_a=pk_gg)\n",
    "clkg_cmb = ccl.angular_cl(cosmo, t_g, t_cmb, ell, p_of_k_a=pk_gm)\n",
    "clkk_cmb = ccl.angular_cl(cosmo, t_cmb, t_cmb, ell, p_of_k_a=pk_mm)\n"
   ]
  },
  {
   "cell_type": "code",
   "execution_count": 5,
   "id": "212452e8",
   "metadata": {},
   "outputs": [],
   "source": [
    "LRG_sn =  1/(311 * 3282.8)\n",
    "chi_LRG = 0.68*ccl.background.comoving_radial_distance(cosmo, 1/(1+desi_mu))\n",
    "\n",
    "def k2ell(k):\n",
    "    return k*chi_LRG - 0.5\n",
    "\n",
    "def ell2k(ell):\n",
    "    return (ell+0.5)/chi_LRG\n"
   ]
  },
  {
   "cell_type": "code",
   "execution_count": 6,
   "id": "f3d8f559",
   "metadata": {},
   "outputs": [],
   "source": [
    "# loading in emulator errors. Indices 0,1,2,3 are 50th, 68th, 95th, and 99th percentile errors\n",
    "k_emu = np.loadtxt('results/k.txt')\n",
    "emu_err_SO_tier2 = np.loadtxt('results/SO_lens/tier2_results_ktrunc_kerr_full.txt')\n",
    "emu_err_SO_tier1 = np.loadtxt('results/SO_lens/tier1_results_ktrunc_kerr_full.txt')\n",
    "# Training was done over restricted k-range\n",
    "emu_err_SO_tier1_trunc = np.loadtxt('results/SO_lens/tier1_results_ktrunc_kmaxp6_kerr_full.txt')\n"
   ]
  },
  {
   "cell_type": "code",
   "execution_count": 7,
   "id": "a75d5069",
   "metadata": {},
   "outputs": [
    {
     "data": {
      "image/png": "[encoded data removed]",
      "text/plain": [
       "<Figure size 576x360 with 2 Axes>"
      ]
     },
     "metadata": {
      "needs_background": "light"
     },
     "output_type": "display_data"
    }
   ],
   "source": [
    "fig, ax = plt.subplots(2, 1, figsize=(8, 5), sharex=True)\n",
    "\n",
    "delta_ell = np.sqrt(900+10*ell)\n",
    "clkg_CMB_err = np.sqrt(1+(clkk_cmb+SO_noise_interp(ell))*(clgg_DESI+desi_shotnoise)/(clkg_cmb)**2)\n",
    "\n",
    "for i in range(len(ellbins)-1):\n",
    "    if(i==0):\n",
    "        ax[0].plot([ellbins[i], ellbins[i+1]], [(100*geom_fac_DESI*(1+LRG_sn/clgg_DESI))[i], (100*geom_fac_DESI*(1+LRG_sn/clgg_DESI))[i]], c='C0', label=r'LRG-Ext Auto')\n",
    "        ax[1].plot([ellbins[i], ellbins[i+1]], [(100*geom_fac_DESI*(1+LRG_sn/clgg_DESI))[i], (100*geom_fac_DESI*(1+LRG_sn/clgg_DESI))[i]], c='C0')\n",
    "\n",
    "    else:\n",
    "        ax[0].plot([ellbins[i], ellbins[i+1]], [(100*geom_fac_DESI*(1+LRG_sn/clgg_DESI))[i], (100*geom_fac_DESI*(1+LRG_sn/clgg_DESI))[i]], c='C0')\n",
    "        ax[1].plot([ellbins[i], ellbins[i+1]], [(100*geom_fac_DESI*(1+LRG_sn/clgg_DESI))[i], (100*geom_fac_DESI*(1+LRG_sn/clgg_DESI))[i]], c='C0')\n",
    "\n",
    "ax[0].plot((k_emu[:539]*chi_LRG-0.5), 100*emu_err_SO_tier2[1,:], c='C1')\n",
    "ax[1].plot((k_emu*chi_LRG-0.5)[:539], 100*emu_err_SO_tier1[1,:], c='C1', label='68th pctl.')\n",
    "ax[1].plot((k_emu*chi_LRG-0.5)[:479], 100*emu_err_SO_tier1_trunc[1,:], c='C3', label='$N=400$')\n",
    "\n",
    "ax[0].legend(title=r'Tier 2, $N_{\\rm train}=275$', loc='upper left', ncol=2)\n",
    "ax[1].legend(ncol=2, title=r'Tier 1, $N_{\\rm train}=1500$')\n",
    "\n",
    "ax[0].set_ylim(0, 4)\n",
    "ax[1].set_ylim(0, 4)\n",
    "\n",
    "ax[0].grid(True)\n",
    "ax[1].grid(True)\n",
    "\n",
    "ax[0].set_xlim(30, k2ell(1))\n",
    "ax[1].set_xlabel(r'$\\ell$', fontsize=12)\n",
    "fig.supylabel('Percent $C_{\\ell}^{gg}$ Error', fontsize=12)\n",
    "\n",
    "secax = ax[0].secondary_xaxis('top', functions=(ell2k, k2ell))\n",
    "secax.set_xlabel(r'$k\\quad[h\\,{\\rm Mpc}^{-1}]$')\n",
    "\n",
    "\n",
    "plt.tight_layout()\n",
    "plt.savefig('figures/CMB_lens_result.pdf')\n",
    "\n",
    "plt.show()"
   ]
  },
  {
   "cell_type": "markdown",
   "id": "6e525aae",
   "metadata": {},
   "source": [
    "### DES Y6 GGL with DESI BGS ###"
   ]
  },
  {
   "cell_type": "code",
   "execution_count": 8,
   "id": "6b2440b7",
   "metadata": {},
   "outputs": [],
   "source": [
    "# highest-z bin\n",
    "z_src_DES, dndz_src_DES = np.loadtxt('surveys/DES_Y6_src_bin_5.csv', unpack=True, usecols=(0, -1), delimiter=',')\n",
    "\n",
    "bgs_mu = 0.3\n",
    "bgs_std = 0.2\n",
    "bgs_b1 = 1.\n",
    "bgs_shotnoise = 1/(800 * 3282.8) # 2D shot noise, convert from deg^-2 to std^-1\n",
    "dndz_BGS = np.exp(-((zarr-bgs_mu)/(bgs_std))**2)\n",
    "\n",
    "neff_DES = 1.6\n",
    "sigma_eps_DES = 0.29\n",
    "DES_fsky = 0.1\n",
    "\n",
    "n_source_per_sterrad = neff_DES * 60**2 * 41253 / (4 * np.pi) # convert from arcmin^-2 to std^-1\n",
    "shapenoise = sigma_eps_DES**2 / n_source_per_sterrad"
   ]
  },
  {
   "cell_type": "code",
   "execution_count": 9,
   "id": "daec6b0e",
   "metadata": {},
   "outputs": [],
   "source": [
    "# Running CCL for this case\n",
    "ptt_bgs = pt.PTNumberCountsTracer(b1=bgs_b1) \n",
    "t_bgs = ccl.NumberCountsTracer(cosmo, has_rsd=False, dndz=(zarr, dndz_BGS), bias=(zarr, np.ones_like(zarr)), mag_bias=None)\n",
    "t_source = ccl.WeakLensingTracer(cosmo, dndz=(z_src_DES, dndz_src_DES))\n",
    "\n",
    "pk_gg_bgs = ptc.get_biased_pk2d(ptt_g, tracer2=ptt_g)\n",
    "pk_gm_bgs = ptc.get_biased_pk2d(ptt_g, tracer2=ptt_m)\n",
    "\n",
    "clgg_bgs = ccl.angular_cl(cosmo, t_bgs, t_bgs, ell, p_of_k_a=pk_gg_bgs)\n",
    "clkg_gal = ccl.angular_cl(cosmo, t_bgs, t_source, ell, p_of_k_a=pk_gm_bgs)\n",
    "clkk_gal = ccl.angular_cl(cosmo, t_source, t_source, ell, p_of_k_a=pk_mm)"
   ]
  },
  {
   "cell_type": "code",
   "execution_count": 10,
   "id": "06949cd7",
   "metadata": {},
   "outputs": [],
   "source": [
    "# calculating error in cross spectrum (without geometric factors)\n",
    "clkg_gal_err = np.sqrt(1+(clkk_gal+shapenoise)*(clgg_bgs+bgs_shotnoise)/(clkg_gal)**2)"
   ]
  },
  {
   "cell_type": "code",
   "execution_count": 11,
   "id": "421eca19",
   "metadata": {},
   "outputs": [],
   "source": [
    "chi_bgs = 0.68*ccl.background.comoving_radial_distance(cosmo, 1/(1+bgs_mu))\n",
    "\n",
    "def k2ell_bgs(k):\n",
    "    return k*chi_bgs - 0.5\n",
    "\n",
    "def ell2k_bgs(ell):\n",
    "    return (ell+0.5)/chi_bgs\n"
   ]
  },
  {
   "cell_type": "code",
   "execution_count": 12,
   "id": "f63ca5f6",
   "metadata": {},
   "outputs": [],
   "source": [
    "geom_fac_DES = get_bins_and_geom_fac(DES_fsky)[1]\n",
    "emu_err_DES_tier2 = np.loadtxt('results/DES_GGL/tier2_results_ktrunc_kerr_full.txt')\n",
    "emu_err_DES_tier1 = np.loadtxt('results/DES_GGL/tier1_results_ktrunc_kerr_full.txt')\n"
   ]
  },
  {
   "cell_type": "code",
   "execution_count": 13,
   "id": "271069b6",
   "metadata": {},
   "outputs": [
    {
     "name": "stderr",
     "output_type": "stream",
     "text": [
      "/var/folders/bl/xyxyl0d10p91mlywms1l_wph0000gn/T/ipykernel_74656/1700782483.py:34: UserWarning: Matplotlib is currently using module://matplotlib_inline.backend_inline, which is a non-GUI backend, so cannot show the figure.\n",
      "  fig.show()\n"
     ]
    },
    {
     "data": {
      "image/png": "[encoded data removed]",
      "text/plain": [
       "<Figure size 576x360 with 2 Axes>"
      ]
     },
     "metadata": {
      "needs_background": "light"
     },
     "output_type": "display_data"
    }
   ],
   "source": [
    "fig, ax = plt.subplots(2, 1, figsize=(8,5), sharex=True)\n",
    "\n",
    "for i in range(len(ellbins)-1):\n",
    "    if i==0:\n",
    "        ax[0].plot([ellbins[i], ellbins[i+1]], [(100*geom_fac_DES*clkg_gal_err)[i]/np.sqrt(2), (100*geom_fac_DES*clkg_gal_err)[i]/np.sqrt(2)], c='C0', label=r'DES Y6 $\\times$ DESI BGS')\n",
    "        ax[1].plot([ellbins[i], ellbins[i+1]], [(100*geom_fac_DES*clkg_gal_err)[i]/np.sqrt(2), (100*geom_fac_DES*clkg_gal_err)[i]/np.sqrt(2)], c='C0')\n",
    "\n",
    "    else:\n",
    "        ax[0].plot([ellbins[i], ellbins[i+1]], [(100*geom_fac_DES*clkg_gal_err)[i]/np.sqrt(2), (100*geom_fac_DES*clkg_gal_err)[i]/np.sqrt(2)], c='C0')\n",
    "        ax[1].plot([ellbins[i], ellbins[i+1]], [(100*geom_fac_DES*clkg_gal_err)[i]/np.sqrt(2), (100*geom_fac_DES*clkg_gal_err)[i]/np.sqrt(2)], c='C0')\n",
    "    \n",
    "\n",
    "ax[0].plot(k_emu[:539]*chi_bgs-0.5, 100*emu_err_DES_tier2[1,:], c='C1')\n",
    "ax[1].plot(k_emu[:539]*chi_bgs-0.5, 100*emu_err_DES_tier1[1,:], c='C1', label='68th pctl.')\n",
    "\n",
    "ax[0].legend(ncol=2, title=r'Tier 2, $N_{\\rm train}=110$')\n",
    "ax[1].legend(ncol=2, title=r'Tier 1, $N_{\\rm train}=600$')\n",
    "\n",
    "secax = ax[0].secondary_xaxis('top', functions=(ell2k_bgs, k2ell_bgs))\n",
    "secax.set_xlabel(r'$k\\quad[h\\,{\\rm Mpc}^{-1}]$')\n",
    "\n",
    "ax[0].set_xlim(min(ell), k2ell_bgs(1))\n",
    "ax[0].set_ylim(0, 9)\n",
    "ax[0].grid(True)\n",
    "ax[1].set_xlim(min(ell), k2ell_bgs(1))\n",
    "ax[1].set_ylim(0, 9)\n",
    "ax[1].grid(True)\n",
    "\n",
    "ax[1].set_xlabel(r'$\\ell$', fontsize=12)\n",
    "fig.supylabel('Percent $C_{\\ell}^{\\kappa g}$ Error')\n",
    "fig.tight_layout()\n",
    "\n",
    "fig.savefig('figures/DES_Y3_BGS_GGL.pdf')\n",
    "fig.show()"
   ]
  },
  {
   "cell_type": "markdown",
   "id": "e69ea2d9",
   "metadata": {},
   "source": [
    "### RST Shear ###"
   ]
  },
  {
   "cell_type": "code",
   "execution_count": 14,
   "id": "8e3bbfff",
   "metadata": {},
   "outputs": [],
   "source": [
    "z_wl, nz_wl = np.loadtxt('surveys/roman_highz_src.csv', unpack=True, delimiter=',')\n",
    "\n",
    "neff_RST_med = 41.3/10 # arcmin^-2\n",
    "sigep_RST = 0.26\n",
    "fsky_RST_med = 0.06\n",
    "\n",
    "neff_RST_wide = 12.7/10 # arcmin^-2\n",
    "fsky_RST_wide = 0.06\n",
    "\n",
    "# convert to std^-1\n",
    "n_source_per_std_med = neff_RST_med * 60**2 * 41253 / (4 * np.pi)\n",
    "n_source_per_std_wide = neff_RST_wide * 60**2 * 41253 / (4 * np.pi)\n",
    "\n",
    "sn_RST_med = sigep_RST**2 / n_source_per_std_med\n",
    "sn_RST_wide = sigep_RST**2 / n_source_per_std_wide\n",
    "\n",
    "t_source = ccl.WeakLensingTracer(cosmo, dndz=(z_wl, nz_wl))\n",
    "t_g = ccl.NumberCountsTracer(cosmo, has_rsd=False, dndz=(zarr, desi_dndz), bias=(zarr, np.ones_like(zarr)), mag_bias=None)\n",
    "\n",
    "clkk_rst = ccl.angular_cl(cosmo, t_source, t_source, ell, p_of_k_a=pk_mm)\n",
    "clkg_rst = ccl.angular_cl(cosmo, t_g, t_source, ell, p_of_k_a=pk_mm)\n",
    "clkk_rst_err_med = 1 + sn_RST_med/clkk_rst\n",
    "clkk_rst_err_wide = 1 + sn_RST_wide/clkk_rst\n",
    "\n",
    "geom_fac_RST_med = get_bins_and_geom_fac(fsky_RST_med)[1]\n",
    "geom_fac_RST_wide =  get_bins_and_geom_fac(fsky_RST_wide)[1]\n",
    "\n",
    "clkk_rst_err_comb = 1/((1/(geom_fac_RST_med*clkk_rst_err_med))+(1/(geom_fac_RST_wide*clkk_rst_err_wide)))\n"
   ]
  },
  {
   "cell_type": "code",
   "execution_count": 15,
   "id": "b247c883",
   "metadata": {},
   "outputs": [],
   "source": [
    "# About half way to z=1.65\n",
    "chi_rst = 0.68*ccl.background.comoving_radial_distance(cosmo, 1/(1+0.635))\n",
    "\n",
    "def k2ell_rst(k):\n",
    "    return k*chi_rst - 0.5\n",
    "\n",
    "def ell2k_rst(ell):\n",
    "    return (ell+0.5)/chi_rst\n"
   ]
  },
  {
   "cell_type": "code",
   "execution_count": 16,
   "id": "d9270a8b",
   "metadata": {},
   "outputs": [],
   "source": [
    "emu_err_RST_tier1 = np.loadtxt('results/RST_Shear/tier1_results_ktrunc_kerr_full.txt')\n",
    "emu_err_RST_tier2 = np.loadtxt('results/RST_Shear/tier2_results_ktrunc_kerr_full.txt')\n",
    "\n",
    "emu_err_RST_tier1_trunc = np.loadtxt('results/RST_Shear/tier1_results_kmaxp7_kerr_full.txt')\n"
   ]
  },
  {
   "cell_type": "code",
   "execution_count": 17,
   "id": "18b9fd79",
   "metadata": {},
   "outputs": [
    {
     "name": "stderr",
     "output_type": "stream",
     "text": [
      "/var/folders/bl/xyxyl0d10p91mlywms1l_wph0000gn/T/ipykernel_74656/1446792663.py:32: UserWarning: Matplotlib is currently using module://matplotlib_inline.backend_inline, which is a non-GUI backend, so cannot show the figure.\n",
      "  fig.show()\n"
     ]
    },
    {
     "data": {
      "image/png": "[encoded data removed]",
      "text/plain": [
       "<Figure size 576x360 with 2 Axes>"
      ]
     },
     "metadata": {
      "needs_background": "light"
     },
     "output_type": "display_data"
    }
   ],
   "source": [
    "fig, ax = plt.subplots(2, 1, figsize=(8,5), sharex=True)\n",
    "\n",
    "for i in range(len(ellbins)-1):\n",
    "    ax[0].plot([ellbins[i], ellbins[i+1]], [(100*clkk_rst_err_comb)[i], (100*clkk_rst_err_comb)[i]], c='C0')\n",
    "    ax[1].plot([ellbins[i], ellbins[i+1]], [(100*clkk_rst_err_comb)[i], (100*clkk_rst_err_comb)[i]], c='C0')\n",
    "\n",
    "\n",
    "ax[0].plot(k_emu*chi_rst-0.5, 100*emu_err_RST_tier2[1,:], c='C1', label='68th pctl.')\n",
    "\n",
    "ax[1].plot(k_emu*chi_rst-0.5, 100*emu_err_RST_tier1[1,:], c='C1', label='68th pctl.')\n",
    "ax[1].plot(k_emu[:497]*chi_rst-0.5, 100*emu_err_RST_tier1_trunc[1,:], c='C3', label='$N=600$')\n",
    "\n",
    "secax = ax[0].secondary_xaxis('top', functions=(ell2k_rst, k2ell_rst))\n",
    "secax.set_xlabel(r'$k\\quad[h\\,{\\rm Mpc}^{-1}]$')\n",
    "\n",
    "ax[0].set_xlim(min(ell), k2ell_rst(1))\n",
    "ax[0].set_ylim(0,4)\n",
    "ax[0].grid(True)\n",
    "ax[0].set_xlim(min(ell), k2ell_rst(1))\n",
    "ax[1].set_ylim(0,4)\n",
    "ax[1].grid(True)\n",
    "\n",
    "ax[1].set_xlabel(r'$\\ell$')\n",
    "fig.supylabel('Percent $C_{\\ell}^{\\kappa \\kappa}$ Error')\n",
    "fig.tight_layout()\n",
    "\n",
    "ax[0].legend(['RST Shear'], ncol=2, title=r'Tier 2, $N_{\\rm train}=100$')\n",
    "ax[1].legend(ncol=2, title=r'Tier 1, $N_{\\rm train}=1500$')\n",
    "fig.tight_layout()\n",
    "\n",
    "fig.savefig('figures/RST_shear_err.pdf')\n",
    "fig.show()\n"
   ]
  },
  {
   "cell_type": "markdown",
   "id": "bd787d4c",
   "metadata": {},
   "source": [
    "### Steel Sample ###"
   ]
  },
  {
   "cell_type": "code",
   "execution_count": 18,
   "id": "f35793f5",
   "metadata": {},
   "outputs": [],
   "source": [
    "src_LSST = np.loadtxt('surveys/nz_lsst_5sbins.txt', unpack=True)\n",
    "z_src_steel = src_LSST[0]\n",
    "dndz_src_steel = src_LSST[-2]\n",
    "dndz_src_steel2 = src_LSST[-3]\n",
    "dndz_lens_steel = src_LSST[1]\n",
    "neff_steel = 4/4 #arcmin^{-2} # per bin\n",
    "\n",
    "n_source_per_sterrad_steel = neff_steel * 60**2 * 41253 / (4 * np.pi)\n",
    "steel_shotnoise = 1/n_source_per_sterrad_steel\n",
    "sigma_eps_steel = 0.26\n",
    "\n",
    "steel_fsky = 0.35\n",
    "\n",
    "shapenoise_steel = sigma_eps_steel**2 / n_source_per_sterrad_steel\n"
   ]
  },
  {
   "cell_type": "code",
   "execution_count": 19,
   "id": "bed4f72e",
   "metadata": {},
   "outputs": [],
   "source": [
    "steel_mu = 0.35\n",
    "chi_steel = 0.68*ccl.background.comoving_radial_distance(cosmo, 1/(1+steel_mu))\n",
    "\n",
    "def k2ell_steel(k):\n",
    "    return k*chi_steel - 0.5\n",
    "\n",
    "def ell2k_steel(ell):\n",
    "    return (ell+0.5)/chi_steel\n"
   ]
  },
  {
   "cell_type": "code",
   "execution_count": 20,
   "id": "a9c308dd",
   "metadata": {},
   "outputs": [],
   "source": [
    "ptt_steel = pt.PTNumberCountsTracer(b1=1) \n",
    "pk_gg_steel = ptc.get_biased_pk2d(ptt_steel, tracer2=ptt_steel)\n",
    "pk_gm_steel = ptc.get_biased_pk2d(ptt_steel, tracer2=ptt_m)"
   ]
  },
  {
   "cell_type": "code",
   "execution_count": 21,
   "id": "32a0b5ce",
   "metadata": {},
   "outputs": [],
   "source": [
    "t_source_hiz_steel = ccl.WeakLensingTracer(cosmo, dndz=(z_src_steel, dndz_src_steel))\n",
    "t_source_midz_steel = ccl.WeakLensingTracer(cosmo, dndz=(z_src_steel, dndz_src_steel2))\n",
    "\n",
    "t_lens_steel = ccl.NumberCountsTracer(cosmo, has_rsd=False, dndz=(z_src_steel, dndz_lens_steel), bias=(zarr, np.ones_like(zarr)), mag_bias=None)\n",
    "\n",
    "clkk_steel_auto = ccl.angular_cl(cosmo, t_source_hiz_steel, t_source_hiz_steel, ell, p_of_k_a=pk_mm)\n",
    "clkk_steel_cross = ccl.angular_cl(cosmo, t_source_hiz_steel, t_source_midz_steel, ell, p_of_k_a=pk_mm)\n",
    "\n",
    "clkg_steel = ccl.angular_cl(cosmo, t_lens_steel, t_source_hiz_steel, ell, p_of_k_a=pk_gm_steel)\n",
    "clgg_steel = ccl.angular_cl(cosmo, t_lens_steel, t_lens_steel, ell, p_of_k_a=pk_gm_steel)\n",
    "\n",
    "geom_fac_steel =  get_bins_and_geom_fac(steel_fsky)[1]\n",
    "steel_shear_err_auto = 1 + shapenoise_steel/clkk_steel_auto\n",
    "steel_shear_err_cross = 1 + shapenoise_steel/clkk_steel_cross\n",
    "steel_gg_err = 1 + steel_shotnoise/clgg_steel\n"
   ]
  },
  {
   "cell_type": "code",
   "execution_count": 22,
   "id": "4f72d539",
   "metadata": {},
   "outputs": [],
   "source": [
    "clkg_steel_err = np.sqrt(1+(clkk_steel_auto+shapenoise_steel)*(clgg_steel+steel_shotnoise)/(clkg_steel)**2)"
   ]
  },
  {
   "cell_type": "code",
   "execution_count": 23,
   "id": "4a5c4019",
   "metadata": {},
   "outputs": [],
   "source": [
    "tier2_err_steel = np.loadtxt('results/Steel_GGL/tier2_results_ktrunc_kerr_full.txt')\n",
    "tier1_err_steel = np.loadtxt('results/Steel_GGL/tier1_results_ktrunc_kerr_full.txt')"
   ]
  },
  {
   "cell_type": "code",
   "execution_count": 24,
   "id": "5ae87fb6",
   "metadata": {},
   "outputs": [
    {
     "name": "stderr",
     "output_type": "stream",
     "text": [
      "/var/folders/bl/xyxyl0d10p91mlywms1l_wph0000gn/T/ipykernel_74656/1917973473.py:30: UserWarning: Matplotlib is currently using module://matplotlib_inline.backend_inline, which is a non-GUI backend, so cannot show the figure.\n",
      "  fig.show()\n"
     ]
    },
    {
     "data": {
      "image/png": "[encoded data removed]",
      "text/plain": [
       "<Figure size 576x360 with 2 Axes>"
      ]
     },
     "metadata": {
      "needs_background": "light"
     },
     "output_type": "display_data"
    }
   ],
   "source": [
    "fig, ax = plt.subplots(2, 1, figsize=(8,5), sharex=True)\n",
    "\n",
    "for i in range(len(ellbins)-1):\n",
    "\n",
    "    ax[0].plot([ellbins[i], ellbins[i+1]], [(100*geom_fac_steel*clkg_steel_err)[i], (100*geom_fac_steel*clkg_steel_err)[i]], c='C0')\n",
    "    ax[1].plot([ellbins[i], ellbins[i+1]], [(100*geom_fac_steel*clkg_steel_err)[i], (100*geom_fac_steel*clkg_steel_err)[i]], c='C0')\n",
    "\n",
    "secax = ax[0].secondary_xaxis('top', functions=(ell2k_steel, k2ell_steel))\n",
    "secax.set_xlabel(r'$k\\quad[h\\,{\\rm Mpc}^{-1}]$')\n",
    "\n",
    "ax[0].plot(k_emu[:539]*chi_steel-0.5, 100*tier2_err_steel[1,:], c='C1', label='68th pctl.')\n",
    "ax[1].plot(k_emu[:539]*chi_steel-0.5, 100*tier1_err_steel[1,:], c='C1', label='68th pctl.')\n",
    "\n",
    "ax[0].set_xlim(30,k2ell_steel(1))\n",
    "ax[0].set_ylim(0, 6)\n",
    "ax[0].grid()\n",
    "\n",
    "ax[1].set_xlim(30,k2ell_steel(1))\n",
    "ax[1].set_ylim(0, 6)\n",
    "ax[1].set_xlabel(r'$\\ell$', fontsize=12)\n",
    "ax[1].grid()\n",
    "\n",
    "ax[0].legend(['Steel Sample GGL'], ncol=2, title=r'Tier 2, $N_{\\rm train}=110$')\n",
    "ax[1].legend(ncol=2, title=r'Tier 1, $N_{\\rm train}=700$')\n",
    "\n",
    "fig.supylabel('Percent $C_{\\ell}^{\\kappa g}$ Error')\n",
    "fig.tight_layout()\n",
    "\n",
    "fig.savefig('figures/Steel_GGL.pdf')\n",
    "fig.show()"
   ]
  }
 ],
 "metadata": {
  "kernelspec": {
   "display_name": "base",
   "language": "python",
   "name": "python3"
  },
  "language_info": {
   "codemirror_mode": {
    "name": "ipython",
    "version": 3
   },
   "file_extension": ".py",
   "mimetype": "text/x-python",
   "name": "python",
   "nbconvert_exporter": "python",
   "pygments_lexer": "ipython3",
   "version": "3.9.12"
  }
 },
 "nbformat": 4,
 "nbformat_minor": 5
}
