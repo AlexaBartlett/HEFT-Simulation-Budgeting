{
 "cells": [
  {
   "cell_type": "code",
   "execution_count": 1,
   "metadata": {},
   "outputs": [],
   "source": [
    "import matplotlib.pyplot as plt\n",
    "import sys\n",
    "sys.path.insert(0, \"/Users/alexabartlett/class/python/build/lib.macosx-10.9-x86_64-3.9\")\n",
    "from classy import Class\n",
    "import pyccl as ccl\n",
    "import pyccl.nl_pt as pt\n",
    "import numpy as np\n",
    "import scipy as sc\n",
    "\n",
    "plt.rcParams['axes.labelsize']        = 12\n",
    "plt.rcParams['axes.titlesize']        = 12\n",
    "plt.rcParams['xtick.labelsize']       = 12\n",
    "plt.rcParams['ytick.labelsize']       = 12\n",
    "plt.rcParams['font.family']           = 'serif'\n",
    "plt.rcParams['font.size']             = 12\n"
   ]
  },
  {
   "cell_type": "markdown",
   "metadata": {},
   "source": [
    "Reading in and defining relevant $dN/dz$ s, number densities, etc."
   ]
  },
  {
   "cell_type": "code",
   "execution_count": 5,
   "metadata": {},
   "outputs": [],
   "source": [
    "zarr = np.linspace(0, 4)\n",
    "\n",
    "# DESI LRGs\n",
    "desi_mu = 0.633\n",
    "desi_std = 0.077\n",
    "desi_dndz = np.exp(-((zarr-desi_mu)/(desi_std))**2)\n",
    "desi_shotnoise = 1/(311 * 3282.8) # 2D shot noise\n",
    "desi_b = 2\n",
    "DESI_fsky = 0.4\n",
    "\n",
    "# Rubin LSST\n",
    "src_LSST = np.loadtxt('surveys/nz_lsst_5sbins.txt', unpack=True)\n",
    "z_src_LSST = src_LSST[0]\n",
    "dndz_src_LSST = src_LSST[-2]\n",
    "neff_LSST = 5.54\n",
    "sigma_eps_LSST = 0.26\n",
    "LSST_fsky = 0.35\n",
    "n_source_per_sterrad = neff_LSST * 60**2 * 41253 / (4 * np.pi)\n",
    "shapenoise = sigma_eps_LSST**2 / n_source_per_sterrad\n",
    "\n",
    "# SO Lensing\n",
    "# Loading in SO noise curve\n",
    "SO_noise = np.loadtxt('surveys/nlkk_v3_1_0deproj0_SENS2_fsky0p4_it_lT30-3000_lP30-5000.dat')\n",
    "ell_SO = SO_noise[:,0]\n",
    "all_SO = SO_noise[:,7]\n",
    "\n",
    "# interpolating function for ease of computing variance later\n",
    "SO_noise_interp = sc.interpolate.interp1d(ell_SO, all_SO)\n"
   ]
  },
  {
   "cell_type": "markdown",
   "metadata": {},
   "source": [
    "Using CCL"
   ]
  },
  {
   "cell_type": "code",
   "execution_count": null,
   "metadata": {},
   "outputs": [],
   "source": [
    "cosmo = ccl.Cosmology(Omega_c=0.25337, Omega_b=0.04933, h=0.68, sigma8=0.82, n_s=0.96, transfer_function='boltzmann_class')\n",
    "\n",
    "# ell binning\n",
    "def get_bins_and_geom_fac(fsky):\n",
    "    dl = 30\n",
    "    ellvec = []\n",
    "    ellval = 30\n",
    "    ellvec.append(ellval)\n",
    "    dlvec = []\n",
    "    fsky=0.4\n",
    "\n",
    "    while ellval < 3000:\n",
    "        dl = np.sqrt(900+10*ellval)\n",
    "        ellval = (dl + ellval)\n",
    "        ellvec.append(ellval)\n",
    "        dlvec.append(dl)\n",
    "        \n",
    "    ellvec = np.array(ellvec)\n",
    "    dlvec = np.array(dlvec)\n",
    "\n",
    "    ellbins = (ellvec[1:] + ellvec[:-1])*0.5\n",
    "    geom_fac = np.sqrt(2 / (fsky*dlvec*(2*ellbins + 1)))\n",
    "    return ellbins, geom_fac\n",
    "\n",
    "# Same fsky for DESI and SO\n",
    "ellbins, geom_fac_DESI = get_bins_and_geom_fac(0.4)\n",
    "ellbins, geom_fac_LSST = get_bins_and_geom_fac(0.35)\n"
   ]
  },
  {
   "cell_type": "code",
   "execution_count": null,
   "metadata": {},
   "outputs": [],
   "source": [
    "ell = ellbins\n",
    "\n",
    "ptt_m = pt.PTMatterTracer()\n",
    "ptt_g = pt.PTNumberCountsTracer(b1=2.00)\n",
    "\n",
    "ptc = pt.EulerianPTCalculator(with_NC=True, with_IA=False, log10k_min=-4, log10k_max=2, nk_per_decade=20)\n",
    "\n",
    "ptc.update_ingredients(cosmo)\n",
    "\n",
    "pk_gg = ptc.get_biased_pk2d(ptt_g, tracer2=ptt_g)\n",
    "pk_gm = ptc.get_biased_pk2d(ptt_g, tracer2=ptt_m)\n",
    "pk_mm = ptc.get_biased_pk2d(ptt_m, tracer2=ptt_m)\n",
    "\n",
    "# bias handled in ptt_g\n",
    "t_g = ccl.NumberCountsTracer(cosmo, has_rsd=False, dndz=(zarr, desi_dndz), bias=(zarr, np.ones_like(zarr)), mag_bias=None)\n",
    "t_source = ccl.WeakLensingTracer(cosmo, dndz=(z_src_LSST, dndz_src_LSST))\n",
    "t_cmb = ccl.CMBLensingTracer(cosmo, z_source=1088)\n",
    "\n",
    "# clustering\n",
    "clgg_DESI = ccl.angular_cl(cosmo, t_g, t_g, ell, p_of_k_a=pk_gg)\n",
    "\n",
    "# CMB Lensing\n",
    "clkg_cmb = ccl.angular_cl(cosmo, t_g, t_cmb, ell, p_of_k_a=pk_gm)\n",
    "clkk_cmb = ccl.angular_cl(cosmo, t_cmb, t_cmb, ell, p_of_k_a=pk_mm)\n",
    "\n",
    "# GGL and Shear\n",
    "clkg_gal = ccl.angular_cl(cosmo, t_g, t_source, ell, p_of_k_a=pk_gm)\n",
    "clkk_gal = ccl.angular_cl(cosmo, t_source, t_source, ell, p_of_k_a=pk_mm)\n"
   ]
  },
  {
   "cell_type": "code",
   "execution_count": 9,
   "metadata": {},
   "outputs": [],
   "source": [
    "# For secondary k-axis\n",
    "chi = 0.68*ccl.background.comoving_radial_distance(cosmo, 1/(1+desi_mu))\n",
    "\n",
    "def k2ell(k):\n",
    "    return k*chi - 0.5\n",
    "\n",
    "def ell2k(ell):\n",
    "    return (ell+0.5)/chi\n"
   ]
  },
  {
   "cell_type": "code",
   "execution_count": null,
   "metadata": {},
   "outputs": [
    {
     "data": {
      "image/png": "[encoded data removed]",
      "text/plain": [
       "<Figure size 576x360 with 1 Axes>"
      ]
     },
     "metadata": {
      "needs_background": "light"
     },
     "output_type": "display_data"
    }
   ],
   "source": [
    "fig, ax = plt.subplots(figsize=(8,5))\n",
    "\n",
    "delta_ell = np.sqrt(900+10*ell) # intermediate binning between logarithmic and linear\n",
    "\n",
    "# Fractional error (excluding geometric factors, handled below)\n",
    "clkg_CMB_err = np.sqrt(1+(clkk_cmb+SO_noise_interp(ell))*(clgg_DESI+desi_shotnoise)/(clkg_cmb)**2)\n",
    "clkg_gal_err = np.sqrt(1+(clkk_gal+shapenoise)*(clgg_DESI+desi_shotnoise)/(clkg_gal)**2)\n",
    "clkk_cmb_err = (1 + SO_noise_interp(ell)/clkk_cmb)\n",
    "clkk_rubin_err = 1 + shapenoise/clkk_gal\n",
    "clgg_err = 1 + desi_shotnoise/(clgg_DESI)\n",
    "\n",
    "for i in range(len(ellbins)-1):\n",
    "    ax.plot([ellbins[i], ellbins[i+1]], [(100*geom_fac_DESI*clkg_CMB_err)[i]/np.sqrt(2), (100*geom_fac_DESI*clkg_CMB_err)[i]/np.sqrt(2)], c='C1')\n",
    "    ax.plot([ellbins[i], ellbins[i+1]], [(100*geom_fac_LSST*clkg_gal_err)[i]/np.sqrt(2), (100*geom_fac_LSST*clkg_gal_err)[i]/np.sqrt(2)], c='C3')\n",
    "    ax.plot([ellbins[i], ellbins[i+1]], [(100*geom_fac_DESI*clkk_cmb_err)[i], (100*geom_fac_DESI*clkk_cmb_err)[i]], color='C4')\n",
    "    ax.plot([ellbins[i], ellbins[i+1]], [(100*geom_fac_LSST*clkk_rubin_err)[i], (100*geom_fac_LSST*clkk_rubin_err)[i]], color='C0')\n",
    "    ax.plot([ellbins[i], ellbins[i+1]], [(100*geom_fac_DESI*clgg_err)[i], (100*geom_fac_DESI*clgg_err)[i]], c='C2')\n",
    "\n",
    "ax.legend([r'DESI x SO', r'DESI x Rubin', r'SO $\\kappa$', r'Rubin $\\kappa$', r'DESI Auto'], ncol=3)\n",
    "ax.set_ylim(0, 10)\n",
    "ax.grid(True)\n",
    "ax.set_xlim(30, 1*chi-0.5)\n",
    "ax.set_xlabel(r'$\\ell$', fontsize=12)\n",
    "ax.set_ylabel(r'$\\sigma[C_{\\ell}^{XY}]/C_{\\ell}^{XY}\\,[\\%]$', fontsize=12)\n",
    "\n",
    "secax = ax.secondary_xaxis('top', functions=(ell2k, k2ell))\n",
    "secax.set_xlabel(r'$k\\quad[h\\,{\\rm Mpc}^{-1}]$')\n",
    "\n",
    "plt.tight_layout()\n",
    "plt.savefig('figures/frac_stat_err.pdf')\n"
   ]
  },
  {
   "cell_type": "markdown",
   "metadata": {},
   "source": [
    "Other Figures"
   ]
  },
  {
   "cell_type": "code",
   "execution_count": 16,
   "metadata": {},
   "outputs": [
    {
     "data": {
      "image/png": "[encoded data removed]",
      "text/plain": [
       "<Figure size 504x288 with 1 Axes>"
      ]
     },
     "metadata": {
      "needs_background": "light"
     },
     "output_type": "display_data"
    }
   ],
   "source": [
    "plt.figure(figsize=(7,4))\n",
    "\n",
    "for i in range(len(ellbins)-1):\n",
    "    plt.plot([ellbins[i], ellbins[i+1]], [clkg_cmb[i], clkg_cmb[i]], c='C1')\n",
    "\n",
    "    plt.plot([ellbins[i], ellbins[i+1]], [clkk_cmb[i], clkk_cmb[i]], color='C4')\n",
    "    plt.plot([ellbins[i], ellbins[i+1]], [SO_noise_interp(ellbins[i]), SO_noise_interp(ellbins[i])], color='C4', alpha=0.5, ls='--')\n",
    "\n",
    "    plt.plot([ellbins[i], ellbins[i+1]], [clgg_DESI[i], clgg_DESI[i]], c='C2')\n",
    "    plt.plot([ellbins[i], ellbins[i+1]], [desi_shotnoise, desi_shotnoise], c='C2', alpha=0.5, ls='--')\n",
    "\n",
    "\n",
    "plt.axvline(380, color='k', ls='--')\n",
    "plt.axvline(900, color='k', ls='-.')\n",
    "# plt.axhline(7e-7)\n",
    "plt.legend([r'$C_\\ell^{\\kappa g}$', r'$C_\\ell^{\\kappa \\kappa}$', r'$N_\\ell^{\\kappa \\kappa}$', r'$C_\\ell^{gg}$', r'$N_\\ell^{gg}$'], ncol=3)\n",
    "plt.xlabel(r'$\\ell$')\n",
    "plt.ylabel('DESI X SO')\n",
    "plt.xscale('log')\n",
    "plt.yscale('log')\n",
    "plt.tight_layout()\n",
    "\n"
   ]
  },
  {
   "cell_type": "code",
   "execution_count": 18,
   "metadata": {},
   "outputs": [
    {
     "data": {
      "image/png": "[encoded data removed]",
      "text/plain": [
       "<Figure size 504x288 with 1 Axes>"
      ]
     },
     "metadata": {
      "needs_background": "light"
     },
     "output_type": "display_data"
    }
   ],
   "source": [
    "plt.figure(figsize=(7,4))\n",
    "\n",
    "for i in range(len(ellbins)-1):\n",
    "    plt.plot([ellbins[i], ellbins[i+1]], [clkg_gal[i], clkg_gal[i]], c='C3')\n",
    "\n",
    "    plt.plot([ellbins[i], ellbins[i+1]], [clkk_gal[i], clkk_gal[i]], color='C0')\n",
    "    plt.plot([ellbins[i], ellbins[i+1]], [shapenoise, shapenoise], color='C0', alpha=0.5, ls='--')\n",
    "\n",
    "    plt.plot([ellbins[i], ellbins[i+1]], [clgg_DESI[i], clgg_DESI[i]], c='C2')\n",
    "    plt.plot([ellbins[i], ellbins[i+1]], [desi_shotnoise, desi_shotnoise], c='C2', alpha=0.5, ls='--')\n",
    "\n",
    "plt.axvline(600, color='k', ls='-.')\n",
    "plt.axvline(900, color='k', ls=':')\n",
    "plt.xlim(50,3e3)\n",
    "plt.legend([r'$C_\\ell^{\\kappa g}$', r'$C_\\ell^{\\kappa \\kappa}$', r'$N_\\ell^{\\kappa \\kappa}$', r'$C_\\ell^{gg}$', r'$N_\\ell^{gg}$'], ncol=3, loc='lower left')\n",
    "plt.xlabel(r'$\\ell$')\n",
    "plt.ylabel('DESI X LSST')\n",
    "plt.xscale('log')\n",
    "plt.yscale('log')\n",
    "plt.tight_layout()"
   ]
  },
  {
   "cell_type": "code",
   "execution_count": null,
   "metadata": {},
   "outputs": [],
   "source": []
  }
 ],
 "metadata": {
  "kernelspec": {
   "display_name": "base",
   "language": "python",
   "name": "python3"
  },
  "language_info": {
   "codemirror_mode": {
    "name": "ipython",
    "version": 3
   },
   "file_extension": ".py",
   "mimetype": "text/x-python",
   "name": "python",
   "nbconvert_exporter": "python",
   "pygments_lexer": "ipython3",
   "version": "3.9.12"
  }
 },
 "nbformat": 4,
 "nbformat_minor": 2
}
